{
 "cells": [
  {
   "cell_type": "code",
   "execution_count": 35,
   "metadata": {},
   "outputs": [
    {
     "data": {
      "text/plain": [
       "True"
      ]
     },
     "execution_count": 35,
     "metadata": {},
     "output_type": "execute_result"
    }
   ],
   "source": [
    "from langchain_community.document_loaders import PyPDFLoader\n",
    "from langchain_community.document_loaders import PyPDFDirectoryLoader\n",
    "from langchain.text_splitter import RecursiveCharacterTextSplitter\n",
    "from langchain_community.embeddings import HuggingFaceBgeEmbeddings\n",
    "from langchain.prompts import PromptTemplate\n",
    "\n",
    "from langchain.chains import RetrievalQA\n",
    "import os\n",
    "from dotenv import load_dotenv\n",
    "\n",
    "load_dotenv()"
   ]
  },
  {
   "cell_type": "code",
   "execution_count": 25,
   "metadata": {},
   "outputs": [],
   "source": [
    "#reading pdf\n",
    "loader = PyPDFDirectoryLoader(str(os.getcwd()))\n",
    "documents = loader.load()\n",
    "\n",
    "text_splitter = RecursiveCharacterTextSplitter(chunk_size=1000,chunk_overlap=200)\n",
    "final_docs = text_splitter.split_documents(documents)"
   ]
  },
  {
   "cell_type": "code",
   "execution_count": 26,
   "metadata": {},
   "outputs": [
    {
     "name": "stderr",
     "output_type": "stream",
     "text": [
      "d:\\LangChain\\venv\\lib\\site-packages\\sentence_transformers\\cross_encoder\\CrossEncoder.py:11: TqdmWarning: IProgress not found. Please update jupyter and ipywidgets. See https://ipywidgets.readthedocs.io/en/stable/user_install.html\n",
      "  from tqdm.autonotebook import tqdm, trange\n",
      "d:\\LangChain\\venv\\lib\\site-packages\\huggingface_hub\\file_download.py:157: UserWarning: `huggingface_hub` cache-system uses symlinks by default to efficiently store duplicated files but your machine does not support them in C:\\Users\\rkcst\\.cache\\huggingface\\hub\\models--BAAI--bge-small-en-v1.5. Caching files will still work but in a degraded version that might require more space on your disk. This warning can be disabled by setting the `HF_HUB_DISABLE_SYMLINKS_WARNING` environment variable. For more details, see https://huggingface.co/docs/huggingface_hub/how-to-cache#limitations.\n",
      "To support symlinks on Windows, you either need to activate Developer Mode or to run Python as an administrator. In order to see activate developer mode, see this article: https://docs.microsoft.com/en-us/windows/apps/get-started/enable-your-device-for-development\n",
      "  warnings.warn(message)\n"
     ]
    }
   ],
   "source": [
    "embeddings = HuggingFaceBgeEmbeddings(\n",
    "    model_name=\"BAAI/bge-small-en-v1.5\",\n",
    "    model_kwargs={'device':'cpu'},\n",
    "    encode_kwargs={'normalize_embeddings':True}\n",
    ")"
   ]
  },
  {
   "cell_type": "code",
   "execution_count": 27,
   "metadata": {},
   "outputs": [
    {
     "data": {
      "text/plain": [
       "array([-8.46568272e-02, -1.19099068e-02, -3.37892212e-02,  2.94559114e-02,\n",
       "        5.19160256e-02,  5.73840030e-02, -4.10018116e-02,  2.74267606e-02,\n",
       "       -1.05128206e-01, -1.58055872e-02,  7.94858783e-02,  5.64318895e-02,\n",
       "       -1.31765716e-02, -3.41544449e-02,  5.81600517e-03,  4.72547635e-02,\n",
       "       -1.30746737e-02,  3.12989787e-03, -3.44226249e-02,  3.08406334e-02,\n",
       "       -4.09086272e-02,  3.52737717e-02, -2.43761223e-02, -4.35830802e-02,\n",
       "        2.41503119e-02,  1.31986486e-02, -4.84455097e-03,  1.92347057e-02,\n",
       "       -5.43912649e-02, -1.42735094e-01,  5.15529374e-03,  2.93115713e-02,\n",
       "       -5.60810752e-02, -8.53529759e-03,  3.14141288e-02,  2.76736636e-02,\n",
       "       -2.06188671e-02,  8.24231505e-02,  4.15425412e-02,  5.79654835e-02,\n",
       "       -3.71586867e-02,  6.26162579e-03, -2.41390318e-02, -5.61797759e-03,\n",
       "       -2.51715723e-02,  5.04976278e-03, -2.52801497e-02, -2.91943387e-03,\n",
       "       -8.24041571e-03, -5.69603927e-02,  2.30822600e-02, -5.54215023e-03,\n",
       "        5.11555411e-02,  6.09937273e-02,  6.49766028e-02, -5.38513996e-02,\n",
       "        2.19109710e-02, -2.54194979e-02, -4.49223891e-02,  4.22458909e-02,\n",
       "        4.75252643e-02,  7.23222096e-04, -2.61084497e-01,  9.30173621e-02,\n",
       "        1.13597615e-02,  4.90668528e-02, -1.06287431e-02, -8.08729418e-03,\n",
       "       -1.53562510e-02, -5.33786602e-02, -6.89967275e-02,  4.75178026e-02,\n",
       "       -5.68596087e-02,  9.38641094e-03,  4.24065292e-02,  2.54346821e-02,\n",
       "        9.67103988e-03,  7.90796429e-03,  2.25161519e-02,  1.91008556e-03,\n",
       "        3.06092147e-02,  2.43991781e-02, -1.34115415e-02, -4.77401018e-02,\n",
       "        4.89940085e-02, -9.49417129e-02,  5.62893972e-02, -4.76261266e-02,\n",
       "        2.81447638e-02, -2.54329499e-02, -3.84950563e-02,  1.00940028e-02,\n",
       "        1.90464983e-04,  3.36624645e-02,  1.00182006e-02,  2.83524077e-02,\n",
       "       -2.68970663e-03, -6.96363719e-03, -3.54915112e-02,  3.42758864e-01,\n",
       "       -1.94496159e-02,  1.43988095e-02, -5.68821467e-03,  1.71480216e-02,\n",
       "       -2.88601243e-03, -5.81653379e-02,  6.35253324e-04,  5.17302752e-03,\n",
       "        2.06331704e-02,  1.65708363e-02,  2.15097088e-02, -2.38796063e-02,\n",
       "        2.89274752e-02,  4.67319377e-02, -3.56104560e-02, -1.05079049e-02,\n",
       "        3.70704122e-02,  1.57502256e-02,  9.43094939e-02, -2.50715092e-02,\n",
       "       -9.55972075e-03,  1.78565979e-02, -9.41780861e-03, -4.57859039e-02,\n",
       "        1.82930753e-02,  5.81431463e-02,  4.94311228e-02,  1.46350697e-01,\n",
       "        2.16058083e-02, -3.92895751e-02,  1.03241250e-01, -3.48300748e-02,\n",
       "       -6.61877729e-03,  7.07983132e-03,  9.26978944e-04,  4.49864799e-03,\n",
       "       -2.89777014e-02,  4.02419381e-02, -5.23190387e-03,  4.59962152e-02,\n",
       "        4.23968630e-03, -4.83793253e-03, -3.23239644e-03, -1.41072839e-01,\n",
       "       -3.76811698e-02,  1.83623895e-01, -2.96609085e-02,  4.90660742e-02,\n",
       "        3.90551649e-02, -1.57757644e-02, -3.86351272e-02,  4.65630405e-02,\n",
       "       -2.43486706e-02,  3.57695147e-02, -3.54946442e-02,  2.36266181e-02,\n",
       "       -3.41924751e-04,  3.11703701e-02, -2.39356272e-02, -5.94758391e-02,\n",
       "        6.06259257e-02, -3.81902382e-02, -7.04255030e-02,  1.42479902e-02,\n",
       "        3.34432088e-02, -3.85255069e-02, -1.71951726e-02, -7.12289214e-02,\n",
       "        2.64976211e-02,  1.09496154e-02,  1.32650258e-02,  3.89528126e-02,\n",
       "        1.60355456e-02, -3.17629986e-02,  1.02013692e-01,  2.92912293e-02,\n",
       "       -2.29205471e-02, -8.38058721e-03, -1.72172859e-02, -6.78821206e-02,\n",
       "        5.39413840e-03, -2.32347324e-02, -6.07406646e-02, -3.86575758e-02,\n",
       "       -1.54307047e-02, -3.84983271e-02, -5.02867624e-02,  5.04234992e-02,\n",
       "        4.94897999e-02, -1.41082611e-02, -2.98144901e-03,  9.77161908e-05,\n",
       "       -6.59189522e-02,  3.01006343e-02, -5.46619645e-04, -1.64787788e-02,\n",
       "       -5.21614738e-02, -3.30225378e-03,  4.75748517e-02, -3.40808108e-02,\n",
       "       -2.98659466e-02,  2.75014956e-02,  5.90201793e-03, -2.64044479e-03,\n",
       "       -1.61242411e-02,  2.05222704e-02,  1.21105174e-02, -5.49782179e-02,\n",
       "        5.10389395e-02, -7.92090315e-03,  7.25205475e-03,  3.51750664e-02,\n",
       "        3.66276987e-02,  5.67727489e-04,  2.60788407e-02,  2.50971448e-02,\n",
       "        1.14480723e-02, -2.54924726e-02,  1.96417551e-02,  2.84220483e-02,\n",
       "        2.82554533e-02,  6.57488927e-02,  9.26554576e-02, -2.68629581e-01,\n",
       "       -8.90508469e-04,  3.16914264e-03,  5.08355442e-03, -6.42101094e-02,\n",
       "       -4.56614755e-02, -4.62259501e-02,  3.60924825e-02,  8.29051062e-03,\n",
       "        8.92348886e-02,  5.68022504e-02,  6.91061094e-03, -1.08683715e-02,\n",
       "        9.36060995e-02,  1.03680333e-02, -8.60929266e-02,  1.77332181e-02,\n",
       "       -2.00802423e-02, -1.85124166e-02,  5.62413072e-04, -9.38341115e-03,\n",
       "        7.76063744e-03, -5.37273251e-02, -2.30027642e-02,  7.48890415e-02,\n",
       "       -1.29693011e-02,  6.53717667e-02, -4.24983092e-02, -7.10294172e-02,\n",
       "       -1.56803001e-02, -6.23029098e-02,  5.36034405e-02, -6.53211307e-03,\n",
       "       -1.15985543e-01,  6.70968369e-02,  1.93367302e-02, -6.67828247e-02,\n",
       "       -2.01760605e-03, -6.27636611e-02, -2.95004956e-02, -2.71986648e-02,\n",
       "        4.49796468e-02, -6.61586821e-02,  2.13751197e-02, -2.94078086e-02,\n",
       "       -5.71503304e-02,  4.05282602e-02,  7.11039975e-02, -6.80164844e-02,\n",
       "        2.11909376e-02,  1.30515071e-02, -2.91152745e-02, -2.25582067e-02,\n",
       "       -1.60188489e-02,  3.20554748e-02, -5.89459799e-02, -2.97131855e-02,\n",
       "        3.42682377e-02, -1.58375781e-02, -9.31770261e-03,  3.59833911e-02,\n",
       "        3.65340780e-03,  4.73319739e-02, -1.06235044e-02, -8.69730208e-03,\n",
       "       -4.38010022e-02,  5.94554236e-03, -2.41493564e-02, -7.79940113e-02,\n",
       "        1.46542881e-02,  1.05613600e-02,  5.45365363e-02, -3.17897573e-02,\n",
       "       -1.26762819e-02,  7.92556442e-03, -1.38132563e-02,  5.01396209e-02,\n",
       "       -7.28584081e-03, -5.23698190e-03, -5.32640778e-02,  4.78208661e-02,\n",
       "       -5.38354032e-02,  1.11437486e-02,  3.96674350e-02, -1.93496533e-02,\n",
       "        9.94823128e-03, -3.53482063e-03,  3.58565291e-03, -9.61504504e-03,\n",
       "        2.15323959e-02, -1.82350036e-02, -2.15189476e-02, -1.38835926e-02,\n",
       "       -1.76698696e-02,  3.37999430e-04, -3.84891493e-04, -2.25800633e-01,\n",
       "        4.51243110e-02,  1.53377093e-02, -1.76967122e-02, -1.42526189e-02,\n",
       "       -7.00277928e-03, -3.13724279e-02,  2.13676691e-03, -9.28347744e-03,\n",
       "       -1.66986529e-02,  4.66263704e-02,  7.71809146e-02,  1.26697004e-01,\n",
       "       -1.83595791e-02, -1.39636286e-02, -1.23298308e-03,  5.93338646e-02,\n",
       "       -1.37464551e-03,  1.98234096e-02, -2.92636380e-02,  4.96656746e-02,\n",
       "       -6.07207417e-02,  1.53544754e-01, -4.67309952e-02,  1.97028797e-02,\n",
       "       -7.67833516e-02, -7.73233641e-03,  3.71618606e-02, -3.00591532e-02,\n",
       "        8.30264483e-03,  2.06258669e-02,  1.97472330e-03,  3.39764468e-02,\n",
       "       -1.70869250e-02,  4.84796017e-02,  1.20782340e-02,  1.24999182e-02,\n",
       "        5.61724193e-02,  9.88544710e-03,  2.13879533e-02, -4.25293744e-02,\n",
       "       -1.94037203e-02,  2.47838050e-02,  1.37260482e-02,  6.41119480e-02,\n",
       "       -2.84481086e-02, -4.64116521e-02, -5.36255799e-02, -6.95649433e-05,\n",
       "        6.45709485e-02, -4.31959750e-04, -1.32471425e-02,  5.85136283e-03,\n",
       "        1.48596056e-02, -5.41847572e-02, -2.02038791e-02, -5.98263182e-02,\n",
       "        3.67030241e-02,  1.43318530e-03, -8.64471588e-03,  2.90671326e-02,\n",
       "        4.38366160e-02, -7.64942169e-02,  1.55718233e-02,  6.65831417e-02])"
      ]
     },
     "execution_count": 27,
     "metadata": {},
     "output_type": "execute_result"
    }
   ],
   "source": [
    "import numpy as np\n",
    "np.array(embeddings.embed_query(final_docs[0].page_content))"
   ]
  },
  {
   "cell_type": "code",
   "execution_count": 28,
   "metadata": {},
   "outputs": [],
   "source": [
    "from langchain_community.vectorstores import FAISS\n",
    "vectorstore = FAISS.from_documents(final_docs[:120],embeddings)"
   ]
  },
  {
   "cell_type": "code",
   "execution_count": 29,
   "metadata": {},
   "outputs": [
    {
     "data": {
      "text/plain": [
       "'2 U.S. Census Bureau\\nWHAT IS HEALTH INSURANCE COVERAGE?\\nThis brief presents state-level estimates of health insurance coverage \\nusing data from the American Community Survey (ACS). The  \\nU.S. Census Bureau conducts the ACS throughout the year; the \\nsurvey asks respondents to report their coverage at the time of \\ninterview. The resulting measure of health insurance coverage, \\ntherefore, reflects an annual average of current comprehensive \\nhealth insurance coverage status.* This uninsured rate measures a \\ndifferent concept than the measure based on the Current Population \\nSurvey Annual Social and Economic Supplement (CPS ASEC). \\nFor reporting purposes, the ACS broadly classifies health insurance \\ncoverage as private insurance or public insurance. The ACS defines \\nprivate health insurance as a plan provided through an employer \\nor a union, coverage purchased directly by an individual from an \\ninsurance company or through an exchange (such as healthcare.'"
      ]
     },
     "execution_count": 29,
     "metadata": {},
     "output_type": "execute_result"
    }
   ],
   "source": [
    "query = \"What is health insurance coverage?\"\n",
    "response = vectorstore.similarity_search(query)\n",
    "response[0].page_content"
   ]
  },
  {
   "cell_type": "code",
   "execution_count": 30,
   "metadata": {},
   "outputs": [],
   "source": [
    "retriever = vectorstore.as_retriever(search_type=\"similarity\",search_kwargs={\"k\":3})"
   ]
  },
  {
   "cell_type": "code",
   "execution_count": 33,
   "metadata": {},
   "outputs": [],
   "source": [
    "os.environ['HUGGINGFACEHUB_API_TOKEN']=os.getenv(\"HUGGINGFACEHUB_API_TOKEN\")"
   ]
  },
  {
   "cell_type": "code",
   "execution_count": 41,
   "metadata": {},
   "outputs": [
    {
     "data": {
      "text/plain": [
       "'What is the health insurance coverage?\\n\\nThe health insurance coverage is a benefit that is provided to the employees of the company. The health insurance coverage is a benefit that is provided to the employees of the company. The health insurance coverage is a benefit that is provided to the employees of the company. The health insurance coverage is a benefit that is provided to the employees of the company. The health insurance coverage is a benefit that is provided to the employees of the company. The health insurance coverage is a benefit that is provided to the employees'"
      ]
     },
     "execution_count": 41,
     "metadata": {},
     "output_type": "execute_result"
    }
   ],
   "source": [
    "from langchain_community.llms import HuggingFaceHub\n",
    "hf = HuggingFaceHub(\n",
    "    repo_id=\"mistralai/Mistral-7B-v0.1\",\n",
    "    model_kwargs={\"temperature\":0.1,\"max_length\":500}\n",
    ")\n",
    "query = \"What is the health insurance coverage?\"\n",
    "hf.invoke(query)"
   ]
  },
  {
   "cell_type": "code",
   "execution_count": 44,
   "metadata": {},
   "outputs": [],
   "source": [
    "prompt_template=\"\"\"\n",
    "Use the following piece of context to answer the question asked.\n",
    "Please try to provide the answer only based on the context\n",
    "\n",
    "{context}\n",
    "Question:{question}\n",
    "\n",
    "Helpful Answers:\n",
    " \"\"\""
   ]
  },
  {
   "cell_type": "code",
   "execution_count": 45,
   "metadata": {},
   "outputs": [],
   "source": [
    "prompt = PromptTemplate(template=prompt_template,input_variables=[\"context\",\"question\"])"
   ]
  },
  {
   "cell_type": "code",
   "execution_count": 47,
   "metadata": {},
   "outputs": [],
   "source": [
    "retrivalQA = RetrievalQA.from_chain_type(\n",
    "    llm=hf,\n",
    "    chain_type=\"stuff\",\n",
    "    retriever=retriever,\n",
    "    return_source_documents = True,\n",
    "    chain_type_kwargs={\"prompt\":prompt}\n",
    ")"
   ]
  },
  {
   "cell_type": "code",
   "execution_count": 48,
   "metadata": {},
   "outputs": [],
   "source": [
    "\n",
    "query=\"\"\"DIFFERENCES IN THE\n",
    "UNINSURED RATE BY STATE\n",
    "IN 2022\"\"\""
   ]
  },
  {
   "cell_type": "code",
   "execution_count": 49,
   "metadata": {},
   "outputs": [
    {
     "name": "stdout",
     "output_type": "stream",
     "text": [
      "\n",
      "Use the following piece of context to answer the question asked.\n",
      "Please try to provide the answer only based on the context\n",
      "\n",
      "comparison of ACS and CPS ASEC measures \n",
      "of health insurance coverage, refer to < www.\n",
      "census.gov/topics/health/health-insurance/\n",
      "guidance.html >.\n",
      "9 Respondents may have more than one \n",
      "health insurance coverage type at the time \n",
      "of interview. As a result, adding the total \n",
      "number of people with private coverage and \n",
      "the total number with public coverage will \n",
      "sum to more than the total number with any \n",
      "coverage.• From 2021 to 2022, nine states \n",
      "reported increases in private \n",
      "coverage, while seven reported \n",
      "decreases (Appendix Table B-2). \n",
      "DIFFERENCES IN THE \n",
      "UNINSURED RATE BY STATE \n",
      "IN 2022\n",
      "In 2022, uninsured rates at the \n",
      "time of interview ranged across \n",
      "states from a low of 2.4 percent \n",
      "in Massachusetts to a high of 16.6 \n",
      "percent in Texas, compared to the \n",
      "national rate of 8.0 percent.10 Ten \n",
      "of the 15 states with uninsured \n",
      "10 The uninsured rates in the District \n",
      "of Columbia and Massachusetts were not \n",
      "statistically different.rates above the national aver -\n",
      "\n",
      "percent (Appendix Table B-5). \n",
      "Medicaid coverage accounted \n",
      "for a portion of that difference. \n",
      "Medicaid coverage was 22.7 per -\n",
      "cent in the group of states that \n",
      "expanded Medicaid eligibility and \n",
      "18.0 percent in the group of nonex -\n",
      "pansion states.\n",
      "CHANGES IN THE UNINSURED \n",
      "RATE BY STATE FROM 2021 \n",
      "TO 2022\n",
      "From 2021 to 2022, uninsured rates \n",
      "decreased across 27 states, while \n",
      "only Maine had an increase. The \n",
      "uninsured rate in Maine increased \n",
      "from 5.7 percent to 6.6 percent, \n",
      "although it remained below the \n",
      "national average. Maine’s uninsured \n",
      "rate was still below 8.0 percent, \n",
      "21 Douglas Conway and Breauna Branch, \n",
      "“Health Insurance Coverage Status and Type \n",
      "by Geography: 2019 and 2021,” 2022, < www.\n",
      "census.gov/content/dam/Census/library/\n",
      "publications/2022/acs/acsbr-013.pdf >.\n",
      "\n",
      "library/publications/2022/acs/acsbr-013.pdf >.\n",
      "39 In 2022, the private coverage rates were \n",
      "not statistically different in North Dakota and \n",
      "Utah.Figure /five.tab/period.tab\n",
      "Percentage of Uninsured People for the /two.tab/five.tab Most Populous Metropolitan \n",
      "Areas/colon.tab /two.tab/zero.tab/two.tab/one.tab and /two.tab/zero.tab/two.tab/two.tab\n",
      "(Civilian, noninstitutionalized population) /uni00A0\n",
      "* Denotes a statistically signiﬁcant change between 2021 and 2022 at the 90 percent conﬁdence level.\n",
      "Note: For information on conﬁdentiality protection, sampling error, nonsampling error, and deﬁnitions in the American Community\n",
      "Survey, refer to <https://www2.census.gov/programs-surveys/acs/tech_docs/accuracy/ACS_Accuracy_of_Data_2022.pdf>.\n",
      "Source: U.S. Census Bureau, 2021 and 2022 American Community Survey, 1-year estimates. Boston-Cambridge-Newton/comma.tab MA-NH\n",
      "San Francisco-Oakland-Berkeley/comma.tab CA\n",
      "*Detroit-Warren-Dearborn/comma.tab MI\n",
      "Question:DIFFERENCES IN THE\n",
      "UNINSURED RATE BY STATE\n",
      "IN 2022\n",
      "\n",
      "Helpful Answers:\n",
      " \n",
      "\n",
      "\n",
      "\n",
      "\n",
      "\n",
      "\n",
      "\n",
      "\n",
      "\n",
      "\n",
      "\n",
      "\n",
      "\n",
      "\n",
      "\n",
      "\n",
      "\n",
      "\n",
      "\n",
      "\n",
      "\n",
      "\n",
      "\n",
      "\n",
      "\n",
      "\n",
      "\n",
      "\n",
      "\n",
      "\n",
      "\n",
      "\n",
      "\n",
      "\n",
      "\n",
      "\n",
      "\n",
      "\n",
      "\n",
      "\n",
      "\n",
      "\n",
      "\n",
      "\n",
      "\n",
      "\n",
      "\n",
      "\n",
      "\n",
      "\n",
      "\n",
      "\n",
      "\n",
      "\n",
      "\n",
      "\n",
      "\n",
      "\n",
      "\n",
      "\n",
      "\n",
      "\n",
      "\n",
      "\n",
      "\n",
      "\n",
      "\n",
      "\n",
      "\n",
      "\n",
      "\n",
      "\n",
      "\n",
      "\n",
      "\n",
      "\n",
      "\n",
      "\n",
      "\n",
      "\n",
      "\n",
      "\n",
      "\n",
      "\n",
      "\n",
      "\n",
      "\n",
      "\n",
      "\n",
      "\n",
      "\n",
      "\n",
      "\n",
      "\n",
      "\n",
      "\n",
      "\n",
      "\n",
      "\n",
      "\n"
     ]
    }
   ],
   "source": [
    "result = retrivalQA.invoke({\"query\":query})\n",
    "print(result['result'])"
   ]
  }
 ],
 "metadata": {
  "kernelspec": {
   "display_name": "venv",
   "language": "python",
   "name": "python3"
  },
  "language_info": {
   "codemirror_mode": {
    "name": "ipython",
    "version": 3
   },
   "file_extension": ".py",
   "mimetype": "text/x-python",
   "name": "python",
   "nbconvert_exporter": "python",
   "pygments_lexer": "ipython3",
   "version": "3.10.8"
  }
 },
 "nbformat": 4,
 "nbformat_minor": 2
}
