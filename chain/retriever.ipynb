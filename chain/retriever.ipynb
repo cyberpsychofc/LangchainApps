{
 "cells": [
  {
   "cell_type": "code",
   "execution_count": 1,
   "metadata": {},
   "outputs": [],
   "source": [
    "from langchain_community.document_loaders import TextLoader\n",
    "loader = TextLoader(\"speech.txt\")\n",
    "text_docs = loader.load()"
   ]
  },
  {
   "cell_type": "code",
   "execution_count": 2,
   "metadata": {},
   "outputs": [],
   "source": [
    "import os\n",
    "from dotenv import load_dotenv\n",
    "\n",
    "load_dotenv()\n",
    "\n",
    "os.environ[\"GROQ_API_KEY\"] = os.getenv(\"GROQ_API_KEY\")"
   ]
  },
  {
   "cell_type": "code",
   "execution_count": 3,
   "metadata": {},
   "outputs": [
    {
     "data": {
      "text/plain": [
       "[Document(metadata={'source': 'speech.txt'}, page_content='I am honored to be with you today at your commencement from one of the finest\\nuniversities in the world. I never graduated from college. Truth be told, this is the closest\\nI\\'ve ever gotten to a college graduation. Today I want to tell you.. a story.. from my life.\\nThat\\'s it. No big dealâ€¦.\\nMy story is about death.\\nWhen I was 17, I read a quote that went something like: \"If you live each day as if it was\\nyour last, someday you\\'ll most certainly be right.\" It made an impression on me, and\\nsince then, for the past 33 years, I have looked in the mirror every morning and asked\\nmyself: \"If today were the last day of my life, would I want to do what I am about to do\\ntoday?\" And whenever the answer has been \"No\" for too many days in a row, I know I\\nneed to change something.\\nRemembering that I\\'ll be dead soon is the most important tool I\\'ve ever encountered to\\nhelp me make the big choices in life. Because almost everything â€” all external'),\n",
       " Document(metadata={'source': 'speech.txt'}, page_content=\"need to change something.\\nRemembering that I'll be dead soon is the most important tool I've ever encountered to\\nhelp me make the big choices in life. Because almost everything â€” all external\\nexpectations, all pride, all fear of embarrassment or failure - these things just fall away\\nin the face of death, leaving only what is truly important. Remembering that you are\\ngoing to die is the best way I know to avoid the trap of thinking you have something to\\nlose. You are already naked. There is no reason not to follow your heart.\\nAbout a year ago I was diagnosed with cancer. I had a scan at 7:30 in the morning, and\\nit clearly showed a tumor on my pancreas. I didn't even know what a pancreas was. The\\ndoctors told me this was almost certainly a type of cancer that is incurable, and that I\\nshould expect to live no longer than three to six months. My doctor advised me to go\\nhome and get my affairs in order, which is doctor's code for prepare to die. It means to\"),\n",
       " Document(metadata={'source': 'speech.txt'}, page_content=\"should expect to live no longer than three to six months. My doctor advised me to go\\nhome and get my affairs in order, which is doctor's code for prepare to die. It means to\\ntry to tell your kids everything you thought you'd have the next 10 years to tell them in\\njust a few months. It means to make sure everything is buttoned up so that it will be as\\neasy as possible for your family. It means to say your goodbyes.\\nI lived with that diagnosis all day. Later that evening I had a biopsy, where they stuck an\\nendoscope down my throat, through my stomach and into my intestines, put a needle\\ninto my pancreas and got a few cells from the tumor. I was sedated, but my wife, who\\nwas there, told me that when they viewed the cells under a microscope the doctors\\nstarted crying because it turned out to be a very rare form of pancreatic cancer that is\\ncurable with surgery. I had the surgery and I'm fine now.\\nThis was the closest I've been to facing death, and I hope it's the closest I get for a few\"),\n",
       " Document(metadata={'source': 'speech.txt'}, page_content=\"curable with surgery. I had the surgery and I'm fine now.\\nThis was the closest I've been to facing death, and I hope it's the closest I get for a few\\nmore decades. Having lived through it, I can now say this to you with a bit more\\ncertainty than when death was a useful but purely intellectual concept:\\nNo one wants to die. Even people who want to go to heaven don't want to die to get\\nthere. And yet death is the destination we all share. No one has ever escaped it. And\\nthat is as it should be, because Death is very likely the single best invention of Life. It is\\nLife's change agent. It clears out the old to make way for the new. Right now the new is\\nyou, but someday not too long from now, you will gradually become the old and be\\ncleared away. Sorry to be so dramatic, but it is quite true.\\nYour time is limited, so don't waste it living someone else's life. Don't be trapped by\\ndogma â€” which is living with the results of other people's thinking. Don't let the noise of\"),\n",
       " Document(metadata={'source': 'speech.txt'}, page_content=\"Your time is limited, so don't waste it living someone else's life. Don't be trapped by\\ndogma â€” which is living with the results of other people's thinking. Don't let the noise of\\nothers' opinions drown out your own inner voice. And most important, have the courage\\nto follow your heart and intuition. They somehow already know what you truly want to\\nbecome. Everything else is secondary.\\nWhen I was young, there was an amazing publication called The Whole Earth Catalog,\\nwhich was one of the bibles of my generation. It was created by a fellow named Stewart\\nBrand not far from here in Menlo Park, and he brought it to life with his poetic touch.\\nThis was in the late 1960's, before personal computers and desktop publishing, so it\\nwas all made with typewriters, scissors, and polaroid cameras. It was sort of like Google\\nin paperback form, 35 years before Google came along: it was idealistic, and\\noverflowing with neat tools and great notions.\"),\n",
       " Document(metadata={'source': 'speech.txt'}, page_content='in paperback form, 35 years before Google came along: it was idealistic, and\\noverflowing with neat tools and great notions.\\nStewart and his team put out several issues of The Whole Earth Catalog, and then\\nwhen it had run its course, they put out a final issue. It was the mid-1970s, and I was\\nyour age. On the back cover of their final issue was a photograph of an early morning\\ncountry road, the kind you might find yourself hitchhiking on if you were so adventurous.\\nBeneath it were the words: \"Stay Hungry. Stay Foolish.\" It was their farewell message\\nas they signed off. Stay Hungry. Stay Foolish. And I have always wished that for myself.\\nAnd now, as you graduate to begin anew, I wish that for you.\\nStay Hungry. Stay Foolish.\\nThank you all very much.')]"
      ]
     },
     "execution_count": 3,
     "metadata": {},
     "output_type": "execute_result"
    }
   ],
   "source": [
    "from langchain.text_splitter import RecursiveCharacterTextSplitter\n",
    "text_splitter = RecursiveCharacterTextSplitter(chunk_size=1000,chunk_overlap=200)\n",
    "documents = text_splitter.split_documents(text_docs)\n",
    "documents"
   ]
  },
  {
   "cell_type": "code",
   "execution_count": 4,
   "metadata": {},
   "outputs": [
    {
     "name": "stderr",
     "output_type": "stream",
     "text": [
      "d:\\LangChain\\venv\\lib\\site-packages\\sentence_transformers\\cross_encoder\\CrossEncoder.py:11: TqdmWarning: IProgress not found. Please update jupyter and ipywidgets. See https://ipywidgets.readthedocs.io/en/stable/user_install.html\n",
      "  from tqdm.autonotebook import tqdm, trange\n"
     ]
    }
   ],
   "source": [
    "from langchain_community.embeddings import HuggingFaceBgeEmbeddings\n",
    "from langchain_community.vectorstores import FAISS\n",
    "db = FAISS.from_documents(documents,HuggingFaceBgeEmbeddings())"
   ]
  },
  {
   "cell_type": "code",
   "execution_count": 5,
   "metadata": {},
   "outputs": [
    {
     "data": {
      "text/plain": [
       "ChatGroq(client=<groq.resources.chat.completions.Completions object at 0x00000171C0ED2BF0>, async_client=<groq.resources.chat.completions.AsyncCompletions object at 0x00000171C0ED1F30>, model_name='llama3-8b-8192', groq_api_key=SecretStr('**********'))"
      ]
     },
     "execution_count": 5,
     "metadata": {},
     "output_type": "execute_result"
    }
   ],
   "source": [
    "from langchain_groq import ChatGroq\n",
    "llm = ChatGroq(model=\"llama3-8b-8192\")\n",
    "llm"
   ]
  },
  {
   "cell_type": "code",
   "execution_count": 6,
   "metadata": {},
   "outputs": [],
   "source": [
    "from langchain_core.prompts import ChatPromptTemplate\n",
    "prompt = ChatPromptTemplate.from_template(\"\"\"\n",
    "Answer the following question based only on the provided context.\n",
    "Think step by step before providing a detailed answer.\n",
    "You will be reward you positvely if the user finds the answer helpful.\n",
    "<context>\n",
    "{context}\n",
    "</context>\n",
    "Question: {input}\"\"\")"
   ]
  },
  {
   "cell_type": "code",
   "execution_count": 7,
   "metadata": {},
   "outputs": [],
   "source": [
    "#Chain intro - Stuff Document chain\n",
    "from langchain.chains.combine_documents import create_stuff_documents_chain\n",
    "\n",
    "document_chain = create_stuff_documents_chain(llm, prompt)"
   ]
  },
  {
   "cell_type": "code",
   "execution_count": 8,
   "metadata": {},
   "outputs": [
    {
     "data": {
      "text/plain": [
       "VectorStoreRetriever(tags=['FAISS', 'HuggingFaceBgeEmbeddings'], vectorstore=<langchain_community.vectorstores.faiss.FAISS object at 0x00000171BF3E4CD0>)"
      ]
     },
     "execution_count": 8,
     "metadata": {},
     "output_type": "execute_result"
    }
   ],
   "source": [
    "retriver = db.as_retriever()\n",
    "retriver"
   ]
  },
  {
   "cell_type": "code",
   "execution_count": 9,
   "metadata": {},
   "outputs": [],
   "source": [
    "#retriever chain\n",
    "from langchain.chains import create_retrieval_chain\n",
    "retrieval_chain = create_retrieval_chain(retriver,document_chain)"
   ]
  },
  {
   "cell_type": "code",
   "execution_count": 13,
   "metadata": {},
   "outputs": [
    {
     "data": {
      "text/plain": [
       "'The most important concept from the speech is the idea that \"Remembering that you are going to die is the best way I know to avoid the trap of thinking you have something to lose. You are already naked. There is no reason not to follow your heart.\" This concept is emphasized throughout the speech as the key to making big choices in life and living authentically, rather than being held back by fear of failure, embarrassment, or external expectations.'"
      ]
     },
     "execution_count": 13,
     "metadata": {},
     "output_type": "execute_result"
    }
   ],
   "source": [
    "response = retrieval_chain.invoke({\"input\":\"Tell me the most important concept from the speech.\"})\n",
    "response['answer']"
   ]
  }
 ],
 "metadata": {
  "kernelspec": {
   "display_name": "venv",
   "language": "python",
   "name": "python3"
  },
  "language_info": {
   "codemirror_mode": {
    "name": "ipython",
    "version": 3
   },
   "file_extension": ".py",
   "mimetype": "text/x-python",
   "name": "python",
   "nbconvert_exporter": "python",
   "pygments_lexer": "ipython3",
   "version": "3.10.8"
  }
 },
 "nbformat": 4,
 "nbformat_minor": 2
}
